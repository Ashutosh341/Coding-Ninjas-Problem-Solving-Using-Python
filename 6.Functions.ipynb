{
 "cells": [
  {
   "cell_type": "markdown",
   "metadata": {},
   "source": [
    "# Fahrenheit to Celsius Function"
   ]
  },
  {
   "cell_type": "markdown",
   "metadata": {},
   "source": [
    "Given three values - Start Fahrenheit Value (S), End Fahrenheit value (E) and Step Size (W), you need to convert all Fahrenheit values from Start to End at the gap of W, into their corresponding Celsius values and print the table.<br>\n",
    "<br>\n",
    "Input Format :<br>\n",
    "3 integers - S, E and W respectively<br>\n",
    "<br>\n",
    "Output Format :<br>\n",
    "Fahrenheit to Celsius conversion table. One line for every Fahrenheit and Celsius Fahrenheit value. Fahrenheit value and its corresponding Celsius value should be separate by tab (&quot;\\t&quot;)<br>\n",
    "<br>\n",
    "Constraints :<br>\n",
    "0 <= S <= 1000<br>\n",
    "0 <= E <= 1000<br>\n",
    "0 <= W <= 1000<br>\n",
    "<br>\n",
    "Sample Input 1:<br>\n",
    "0 <br>\n",
    "100 <br>\n",
    "20<br>\n",
    "Sample Output 1:<br>\n",
    "0 -17<br>\n",
    "20 -6<br>\n",
    "40 4<br>\n",
    "60 15<br>\n",
    "80 26<br>\n",
    "100 37<br>\n",
    "Sample Input 2:<br>\n",
    "120 <br>\n",
    "200 <br>\n",
    "40<br>\n",
    "Sample Output 2:<br>\n",
    "120 48<br>\n",
    "160 71<br>\n",
    "200 93<br>\n",
    "<br>\n",
    "Explanation for Sample Output 2 :<br>\n",
    "Start value is 120, end value is 200 and step size is 40. Therefore, the values we need to convert are 120, 120 + 40 = 160, and 160 + 40 = 200. <br>\n",
    "The formula for converting Fahrenheit to Celsius is:<br>\n",
    "Celsius Value = (5/9)*(Fahrenheit Value - 32) <br>\n",
    "Plugging 120 into the formula, the celsius value will be (5 / 9)*(120 - 32) => (5 / 9) * 88 => (5 * 88) / 9 => 440 / 9 => 48.88<br>\n",
    "But we'll only print 48 because we are only interested in the integral part of the value."
   ]
  },
  {
   "cell_type": "code",
   "execution_count": null,
   "metadata": {},
   "outputs": [],
   "source": [
    "#Python Code\n",
    "def printTable(start,end,step):\n",
    "    while start <= end:\n",
    "        Fahrenheit_to_Celsius = (((start - 32) * 5) / 9)\n",
    "        print(start, int(Fahrenheit_to_Celsius))\n",
    "        start = start + step\n",
    "  \n",
    "s = int(input())\n",
    "e = int(input())\n",
    "step = int(input())\n",
    "printTable(s,e,step)"
   ]
  },
  {
   "cell_type": "code",
   "execution_count": null,
   "metadata": {},
   "outputs": [],
   "source": []
  },
  {
   "cell_type": "markdown",
   "metadata": {},
   "source": [
    "# Fibonacci Member"
   ]
  },
  {
   "cell_type": "markdown",
   "metadata": {},
   "source": [
    "Given a number N, figure out if it is a member of fibonacci series or not. Return true if the number is member of fibonacci series else false.<br>\n",
    "<br>\n",
    "Fibonacci Series is defined by the recurrence<br>\n",
    " F(n) = F(n-1) + F(n-2)<br>\n",
    "where F(0) = 0 and F(1) = 1<br>\n",
    "<br>\n",
    "<br>\n",
    "Input Format :<br>\n",
    "Integer N<br>\n",
    "<br>\n",
    "Output Format :<br>\n",
    "true or false<br>\n",
    "<br>\n",
    "Constraints :<br>\n",
    "0 <= n <= 10^4<br>\n",
    "<br>\n",
    "Sample Input 1 :<br>\n",
    "5<br>\n",
    "Sample Output 1 :<br>\n",
    "true<br>\n",
    "Sample Input 2 :<br>\n",
    "14<br>\n",
    "Sample Output 2 :<br>\n",
    "false"
   ]
  },
  {
   "cell_type": "code",
   "execution_count": null,
   "metadata": {},
   "outputs": [],
   "source": [
    "#Python Code\n",
    "import math \n",
    "def isPerfectSquare(x): \n",
    "    s = int(math.sqrt(x)) \n",
    "    return s*s == x \n",
    "def isFibonacci(n): \n",
    "    return isPerfectSquare(5*n*n + 4) or isPerfectSquare(5*n*n - 4)\n",
    "\n",
    "n=int(input())\n",
    "if (isFibonacci(n)==True):\n",
    "    print(\"true\")\n",
    "else:\n",
    "    print(\"false\")"
   ]
  },
  {
   "cell_type": "markdown",
   "metadata": {},
   "source": [
    "# Palindrome number"
   ]
  },
  {
   "cell_type": "markdown",
   "metadata": {},
   "source": [
    "Write a program to determine if given number is palindrome or not. Print true if it is palindrome, false otherwise.<br>\n",
    "<br>\n",
    "Palindrome are the numbers for which reverse is exactly same as the original one. For eg. 121<br>\n",
    "<br>\n",
    "Sample Input 1 :<br>\n",
    "121<br>\n",
    "Sample Output 1 :<br>\n",
    "true<br>\n",
    "Sample Input 2 :<br>\n",
    "1032<br>\n",
    "Sample Output 2 :<br>\n",
    "false"
   ]
  },
  {
   "cell_type": "code",
   "execution_count": null,
   "metadata": {},
   "outputs": [],
   "source": [
    "def checkPalindrome(n):\n",
    "    Revese = 0\n",
    "    while n > 0:\n",
    "        Remainder = n % 10\n",
    "        n = int(n / 10)\n",
    "        Revese = Revese * 10 + Remainder\n",
    "    return Revese\n",
    "\n",
    "\n",
    "num = int(input())\n",
    "Rev=checkPalindrome(num)\n",
    "if (num==Rev):\n",
    "    print('true')\n",
    "else:\n",
    "    print('false')"
   ]
  },
  {
   "cell_type": "markdown",
   "metadata": {},
   "source": [
    "# Check Armstrong"
   ]
  },
  {
   "cell_type": "markdown",
   "metadata": {},
   "source": [
    "Write a Program to determine if the given number is Armstrong number or not. Print true if number is armstrong, otherwise print false.<br>\n",
    "<br>\n",
    "An Armstrong number is a number (with digits n) such that the sum of its digits raised to nth power is equal to the number itself.<br>\n",
    "<br>\n",
    "For example,<br>\n",
    "371, as 3^3 + 7^3 + 1^3 = 371<br>\n",
    "1634, as 1^4 + 6^4 + 3^4 + 4^4 = 1634<br>\n",
    "<br>\n",
    "Input Format :<br>\n",
    "Integer n<br>\n",
    "<br>\n",
    "Output Format :<br>\n",
    "true or false<br>\n",
    "<br>\n",
    "Sample Input 1 :<br>\n",
    "1<br>\n",
    "Sample Output 1 :<br>\n",
    "true<br>\n",
    "Sample Input 2 :<br>\n",
    "103<br>\n",
    "Sample Output 2 :<br>\n",
    "false"
   ]
  },
  {
   "cell_type": "code",
   "execution_count": null,
   "metadata": {},
   "outputs": [],
   "source": [
    "n=int(input())\n",
    "no_of_digits=0\n",
    "org_n=n\n",
    "orginal_no=n\n",
    "Armstrong=0\n",
    "while n>0:\n",
    "    no_of_digits+=1\n",
    "    n=n//10\n",
    "while org_n>0:\n",
    "    Last_Digit = org_n % 10\n",
    "    Armstrong  = Armstrong  + ((Last_Digit)**(no_of_digits))\n",
    "    org_n = (org_n //10)\n",
    "if orginal_no==Armstrong:\n",
    "    print(\"true\")\n",
    "else:\n",
    "    print(\"false\")"
   ]
  }
 ],
 "metadata": {
  "kernelspec": {
   "display_name": "Python 3",
   "language": "python",
   "name": "python3"
  },
  "language_info": {
   "codemirror_mode": {
    "name": "ipython",
    "version": 3
   },
   "file_extension": ".py",
   "mimetype": "text/x-python",
   "name": "python",
   "nbconvert_exporter": "python",
   "pygments_lexer": "ipython3",
   "version": "3.8.6"
  }
 },
 "nbformat": 4,
 "nbformat_minor": 4
}
