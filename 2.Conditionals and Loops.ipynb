{
 "cells": [
  {
   "cell_type": "markdown",
   "metadata": {},
   "source": [
    "# Check number\n",
    "<b>Given an integer n, find if n is positive, negative or 0.</b>\n",
    "<br><br>If n is positive, print \"Positive\"\n",
    "<br>If n is negative, print \"Negative\"\n",
    "<br>And if n is equal to 0, print \"Zero\".\n",
    "<br><br><b>Input Format :</b>\n",
    "<br>Integer n\n",
    "<br><br><b>Output Format:</b>\n",
    "<br>\"Positive\" or \"Negative\" or \"Zero\" (without double quotes)\n",
    "<br><br><b>Sample Input 1 :</b>\n",
    "<br>10\n",
    "<br><b>Sample Output 1 :</b>\n",
    "<br>Positive"
   ]
  },
  {
   "cell_type": "code",
   "execution_count": null,
   "metadata": {},
   "outputs": [],
   "source": [
    "n=int(input())\n",
    "if n>0:\n",
    "    print(\"Positive\")\n",
    "elif n==0:\n",
    "    print(\"Zero\")\n",
    "else:\n",
    "    print(\"Negative\")"
   ]
  },
  {
   "cell_type": "markdown",
   "metadata": {},
   "source": [
    "# Sum of n numbers\n",
    "<br><b>Given an integer n, find and print the sum of numbers from 1 to n.</b>\n",
    "<br><br><b>Note : Use while loop only.</b>\n",
    "<br><br><b>Input Format :</b>\n",
    "<br>Integer n\n",
    "    <br><br><b>Output Format :</b>\n",
    "<br>Sum\n",
    "    <br><br><b>Sample Input :</b>\n",
    "<br>10\n",
    "<br><b>Sample Output :</b>\n",
    "<br>55"
   ]
  },
  {
   "cell_type": "code",
   "execution_count": null,
   "metadata": {},
   "outputs": [],
   "source": [
    "n=int(input())\n",
    "add=0\n",
    "n3=1\n",
    "while n3<=n:\n",
    "    add=add+n3\n",
    "    n3=n3+1\n",
    "print(add)"
   ]
  },
  {
   "cell_type": "markdown",
   "metadata": {},
   "source": [
    "# Sum of Even Numbers\n",
    "\n",
    "<br><b>Sum of Even Numbers</b>\n",
    "<br>Given a number N, print sum of all even numbers from 1 to N.\n",
    "\n",
    "<br><b>Input Format :</b>\n",
    "<br>Integer N\n",
    "\n",
    "<br><b>Output Format :</b>\n",
    "<br>Required Sum \n",
    "\n",
    "<br><b>Sample Input 1 :</b>\n",
    "<br>6\n",
    "<br><b>Sample Output 1 :</b>\n",
    "<br>12"
   ]
  },
  {
   "cell_type": "code",
   "execution_count": 2,
   "metadata": {},
   "outputs": [
    {
     "name": "stdout",
     "output_type": "stream",
     "text": [
      "5\n",
      "6\n"
     ]
    }
   ],
   "source": [
    "n=int(input())\n",
    "add=0\n",
    "n3=2\n",
    "if n%2==0:\n",
    "    while n3<=n:\n",
    "        add=add+n3\n",
    "        n3=n3+2\n",
    "else:\n",
    "    n=n-1\n",
    "    while n3<=n:\n",
    "        add=add+n3\n",
    "        n3=n3+2\n",
    "print(add)"
   ]
  },
  {
   "cell_type": "markdown",
   "metadata": {},
   "source": [
    "# Fahrenheit to Celsius\n",
    "<br>Given three values - Start Fahrenheit Value (S), End Fahrenheit value (E) and Step Size (W), you need to convert all Fahrenheit values from Start to End at the gap of W, into their corresponding Celsius values and print the table.\n",
    "\n",
    "<br>Input Format :\n",
    "3 integers - S, E and W respectively \n",
    "<br>Output Format :\n",
    "## Hint print(val1, \" \", val2)\n",
    "<br>Fahrenheit to Celsius conversion table. One line for every Fahrenheit and corresponding Celsius value. On Fahrenheit value and its corresponding Celsius value should be separate by tab (\"\\t\")\n",
    "\n",
    "<br>Constraints :\n",
    "<br>0 <= S <= 80\n",
    "<br>S <= E <=  900\n",
    "<br>0 <= W <= 40 \n",
    "\n",
    "<br>Sample Input 1:\n",
    "<br>0 \n",
    "<br>100 \n",
    "<br>20\n",
    "<br>Sample Output 1:\n",
    "<br>0   -17\n",
    "<br>20  -6\n",
    "<br>40  4\n",
    "<br>60  15\n",
    "<br>80  26\n",
    "<br>100 37\n",
    "<br>Sample Input 2:\n",
    "<br>20\n",
    "<br>119\n",
    "<br>13\n",
    "<br>Sample Output 2:\n",
    "<br>20  -6\n",
    "<br>33  0 \n",
    "<br>46  7\n",
    "<br>59  15\n",
    "<br>72  22\n",
    "<br>85  29\n",
    "<br>98  36\n",
    "<br>111 43\n",
    "\n",
    "<br>Explanation For Input 2:\n",
    "<br>We need need to start calculating the Celsius values for each of the Fahrenheit Value which starts from 20. So starting from 20 which is the given Fahrenheit start value, we need to compute its corresponding Celsius value which computes to -6. We print this information as <Fahrenheit Value> a tab space\"\\t\" <Celsius Value> on each line for each step of 13 we take to get the next value of Fahrenheit and extend this idea till we reach the end that is till 119 in this case. You may or may not exactly land on the end value depending on the steps you are taking."
   ]
  },
  {
   "cell_type": "code",
   "execution_count": 4,
   "metadata": {},
   "outputs": [
    {
     "name": "stdout",
     "output_type": "stream",
     "text": [
      "0\n",
      "100\n",
      "20\n",
      "0 -17\n",
      "20 -6\n",
      "40 4\n",
      "60 15\n",
      "80 26\n",
      "100 37\n"
     ]
    }
   ],
   "source": [
    "Fahrenheit = int(input())\n",
    "E = int(input())\n",
    "W = int(input())\n",
    "while Fahrenheit <= E:\n",
    "    Fahrenheit_to_Celsius = (((Fahrenheit - 32) * 5) / 9)\n",
    "    print(Fahrenheit, int(Fahrenheit_to_Celsius))\n",
    "    Fahrenheit = Fahrenheit + W"
   ]
  },
  {
   "cell_type": "markdown",
   "metadata": {},
   "source": [
    "# Calculator<br>\n",
    "<br>\n",
    "Write a program that performs the tasks of a simple calculator. The program should first take an integer as input and then based on that integer perform the task as given below.<br>\n",
    "<br>\n",
    "1. If the input is 1, 2 integers are taken from the user and their sum is printed.<br>\n",
    "2. If the input is 2, 2 integers are taken from the user and their difference(1st number - 2nd number) is printed.<br>\n",
    "3. If the input is 3, 2 integers are taken from the user and their product is printed.<br>\n",
    "4. If the input is 4, 2 integers are taken from the user and the quotient obtained (on dividing 1st number by 2nd number) is printed.<br>\n",
    "5. If the input is 5, 2 integers are taken from the user and their remainder(1st number mod 2nd number) is printed.<br>\n",
    "6. If the input is 6, the program exits.<br>\n",
    "7. For any other input, print &quot;Invalid Operation&quot;.<br>\n",
    "Note: Each answer in next line.<br>\n",
    "<br>\n",
    "Input format:<br>\n",
    "Take integers as input, in accordance to the description of the question. <br>\n",
    "<br>\n",
    "Constraints:<br>\n",
    "Time Limit: 1 second<br>\n",
    "<br>\n",
    "Output format:<br>\n",
    "The output lines must be as prescribed in the description of the question.<br>\n",
    "<br>\n",
    "Sample Input:<br>\n",
    "3<br>\n",
    "1<br>\n",
    "2<br>\n",
    "4<br>\n",
    "4<br>\n",
    "2<br>\n",
    "1<br>\n",
    "3<br>\n",
    "2<br>\n",
    "7<br>\n",
    "6<br>\n",
    "Sample Output:<br>\n",
    "2<br>\n",
    "2<br>\n",
    "5<br>\n",
    "Invalid Operation"
   ]
  },
  {
   "cell_type": "code",
   "execution_count": null,
   "metadata": {},
   "outputs": [],
   "source": [
    "while True:\n",
    "    n = int(input())\n",
    "    if n == 1:\n",
    "        n1 = int(input())\n",
    "        n2 = int(input())\n",
    "        print(int(n1+n2))\n",
    "    elif n == 2:\n",
    "        n1 = int(input())\n",
    "        n2 = int(input())\n",
    "        print(int(n1-n2))\n",
    "    elif n == 3:\n",
    "        n1 = int(input())\n",
    "        n2 = int(input())\n",
    "        print(int(n1*n2))\n",
    "    elif n == 4:\n",
    "        n1 = int(input())\n",
    "        n2 = int(input())\n",
    "        print(int(n1/n2))\n",
    "    elif n == 5:\n",
    "        n1 = int(input())\n",
    "        n2 = int(input())\n",
    "        print(int(n1//n2))\n",
    "    elif n == 6:\n",
    "        exit()\n",
    "    else:\n",
    "        print(\"Invalid Operation\")"
   ]
  },
  {
   "cell_type": "markdown",
   "metadata": {},
   "source": [
    "# Reverse of a number<br>\n",
    "Write a program to generate the reverse of a given number N. Print the corresponding reverse number.<br>\n",
    "<br>\n",
    "1. Note : If a number has trailing zeros, then its reverse will not include them. For e.g., reverse of 10400 will be 401 instead of 00401.<br>\n",
    "<br>\n",
    "Input format :<br>\n",
    "Integer N<br>\n",
    "Output format :<br>\n",
    "Corresponding reverse number<br>\n",
    "<br>\n",
    "Constraints:<br>\n",
    "0 <= N < 10^8<br>\n",
    "<br>\n",
    "Sample Input 1 :<br>\n",
    "1234<br>\n",
    "Sample Output 1 :<br>\n",
    "4321<br>\n",
    "<br>\n",
    "Sample Input 2 :<br>\n",
    "1980<br>\n",
    "Sample Output 2 :<br>\n",
    "891"
   ]
  },
  {
   "cell_type": "code",
   "execution_count": null,
   "metadata": {},
   "outputs": [],
   "source": [
    "num = int(input())\n",
    "test_num = 0\n",
    "while (num > 0):\n",
    "    remainder = num % 10\n",
    "    test_num = (test_num * 10) + remainder\n",
    "    num = num // 10\n",
    "\n",
    "print(test_num)"
   ]
  },
  {
   "cell_type": "markdown",
   "metadata": {},
   "source": [
    "# Palindrome number<br>\n",
    "Write a program to determine if given number is palindrome or not. Print true if it is palindrome, false otherwise.<br>\n",
    "1.Palindrome are the numbers for which reverse is exactly same as the original one. For eg. 121<br>\n",
    "<br>\n",
    "Sample Input 1 :<br>\n",
    "121<br>\n",
    "Sample Output 1 :<br>\n",
    "true<br>\n",
    "<br>\n",
    "Sample Input 2 :<br>\n",
    "1032<br>\n",
    "Sample Output 2 :<br>\n",
    "false"
   ]
  },
  {
   "cell_type": "code",
   "execution_count": 23,
   "metadata": {},
   "outputs": [
    {
     "name": "stdout",
     "output_type": "stream",
     "text": [
      "22\n",
      "true\n"
     ]
    }
   ],
   "source": [
    "def checkPalindrome(n):\n",
    "    Revese = 0\n",
    "    while n > 0:\n",
    "        Remainder = n % 10\n",
    "        n = int(n / 10)\n",
    "        Revese = Revese * 10 + Remainder\n",
    "    return Revese\n",
    "\n",
    "\n",
    "num = int(input())\n",
    "Rev=checkPalindrome(num)\n",
    "if (num==Rev):\n",
    "    print('true')\n",
    "else:\n",
    "    print('false')"
   ]
  },
  {
   "cell_type": "markdown",
   "metadata": {},
   "source": [
    "# Another Solution Of Above Problem"
   ]
  },
  {
   "cell_type": "code",
   "execution_count": 11,
   "metadata": {},
   "outputs": [
    {
     "name": "stdout",
     "output_type": "stream",
     "text": [
      "505\n",
      "505\n",
      "true\n"
     ]
    }
   ],
   "source": [
    "num = int(input())\n",
    "real_num=num\n",
    "test_num = 0\n",
    "while (num > 0):\n",
    "    remainder = num % 10\n",
    "    test_num = (test_num * 10) + remainder\n",
    "    num = num // 10\n",
    "if int(test_num)==real_num:\n",
    "    print(\"true\")\n",
    "else:\n",
    "    print(\"false\")"
   ]
  },
  {
   "cell_type": "markdown",
   "metadata": {},
   "source": [
    "# Sum of even &amp; odd (Digits)<br>\n",
    "1.Write a program to input an integer N and print the sum of all its even digits and sum of all its odd digits separately.<br>\n",
    "2.Digits mean numbers, not the places! That is, if the given integer is &quot;13245&quot;, even digits are 2 &amp; 4 and odd digits are 1, 3 &amp; 5.<br>\n",
    "<br>\n",
    "Input format :<br>\n",
    "Integer N<br>\n",
    "Output format :<br>\n",
    "Sum_of_Even_Digits Sum_of_Odd_Digits<br>\n",
    "(Print first even sum and then odd sum separated by space)<br>\n",
    "<br>\n",
    "Constraints<br>\n",
    "0 <= N <= 10^8<br>\n",
    "<br>\n",
    "Sample Input 1:<br>\n",
    "1234<br>\n",
    "Sample Output 1:<br>\n",
    "6 4<br>\n",
    "<br>\n",
    "Sample Input 2:<br>\n",
    "552245<br>\n",
    "Sample Output 2:<br>\n",
    "8 15<br>\n",
    "<br>\n",
    "3.Explanation for Input 2:<br>\n",
    "For the given input, the even digits are 2, 2 and 4 and if we take the sum of these digits it will come out to be 8(2 + 2 + 4) and similarly, if we look at the odd digits, they are, 5, 5 and 5 which makes a sum of 15(5 + 5 + 5). Hence the answer would be, 8(evenSum) <single space> 15(oddSum)"
   ]
  },
  {
   "cell_type": "code",
   "execution_count": 12,
   "metadata": {},
   "outputs": [
    {
     "name": "stdout",
     "output_type": "stream",
     "text": [
      "123456\n",
      "12 9\n"
     ]
    }
   ],
   "source": [
    "n = int(input())\n",
    "sum_of_even = 0\n",
    "sum_of_odd = 0\n",
    "while n > 0:\n",
    "    r = (n%10)\n",
    "    if r % 2 == 0:\n",
    "        sum_of_even = sum_of_even + r\n",
    "    else:\n",
    "        sum_of_odd = sum_of_odd + r\n",
    "    n = (n // 10) \n",
    "print(sum_of_even,sum_of_odd)"
   ]
  },
  {
   "cell_type": "markdown",
   "metadata": {},
   "source": [
    "# Nth Fibonacci number<br>\n",
    "Nth term of fibonacci series F(n) is calculated using following formula -<br>\n",
    " F(n) = F(n-1) + F(n-2), <br>\n",
    " Where, F(1) = F(2) = 1<br>\n",
    "Provided N you have to find out the Nth Fibonacci Number.<br>\n",
    "<br>\n",
    "Input Format :<br>\n",
    "Integer n<br>\n",
    "Output Format :<br>\n",
    "Nth Fibonacci term i.e. F(n)<br>\n",
    "<br>\n",
    "Constraints:<br>\n",
    "1 <= n <= 25<br>\n",
    "<br>\n",
    "Sample Input 1:<br>\n",
    "4<br>\n",
    "Sample Output 2:<br>\n",
    "3 <br>\n",
    "<br>\n",
    "Sample Input 1:<br>\n",
    "6<br>\n",
    "Sample Output 2:<br>\n",
    "8"
   ]
  },
  {
   "cell_type": "code",
   "execution_count": 1,
   "metadata": {},
   "outputs": [
    {
     "name": "stdout",
     "output_type": "stream",
     "text": [
      "10\n",
      "55\n"
     ]
    }
   ],
   "source": [
    "def Fibonacci(n):\n",
    "    if n == 1:\n",
    "        return 1\n",
    "    elif n == 2:\n",
    "        return 1\n",
    "    else:\n",
    "        return Fibonacci(n - 1) + Fibonacci(n - 2) \n",
    "        \n",
    "n=int(input())\n",
    "print(Fibonacci(n))"
   ]
  }
 ],
 "metadata": {
  "kernelspec": {
   "display_name": "Python 3",
   "language": "python",
   "name": "python3"
  },
  "language_info": {
   "codemirror_mode": {
    "name": "ipython",
    "version": 3
   },
   "file_extension": ".py",
   "mimetype": "text/x-python",
   "name": "python",
   "nbconvert_exporter": "python",
   "pygments_lexer": "ipython3",
   "version": "3.8.6"
  }
 },
 "nbformat": 4,
 "nbformat_minor": 4
}
