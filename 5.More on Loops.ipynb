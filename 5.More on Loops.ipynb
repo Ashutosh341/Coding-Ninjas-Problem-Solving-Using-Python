{
 "cells": [
  {
   "cell_type": "markdown",
   "metadata": {},
   "source": [
    "# Binary Pattern"
   ]
  },
  {
   "cell_type": "markdown",
   "metadata": {},
   "source": [
    "Print the following pattern for the given number of rows.<br>\n",
    "<br>\n",
    "Pattern for N = 4<br>\n",
    "1111<br>\n",
    "000<br>\n",
    "11<br>\n",
    "0<br>\n",
    "Input format : N (Total no. of rows)<br>\n",
    "<br>\n",
    "Output format : Pattern in N lines<br>\n",
    "<br>\n",
    "Sample Input :<br>\n",
    "5<br>\n",
    "Sample Output :<br>\n",
    "11111<br>\n",
    "0000<br>\n",
    "111<br>\n",
    "00<br>\n",
    "1"
   ]
  },
  {
   "cell_type": "code",
   "execution_count": null,
   "metadata": {},
   "outputs": [],
   "source": [
    "n=int(input())\n",
    "for i in range(1,n+1):\n",
    "    for l in range(n+2-2*i,0,-1):\n",
    "        print(1,end=\"\")\n",
    "    print()\n",
    "    for j in range (n+1-2*i,0,-1):\n",
    "        print(0,end=\"\")\n",
    "    print()"
   ]
  },
  {
   "cell_type": "markdown",
   "metadata": {},
   "source": [
    "# Print Number Pyramid"
   ]
  },
  {
   "cell_type": "markdown",
   "metadata": {},
   "source": [
    "Print the following pattern for a given n.<br>\n",
    "<br>\n",
    "For eg. N = 6<br>\n",
    "123456<br>\n",
    " 23456<br>\n",
    " 3456<br>\n",
    " 456<br>\n",
    " 56<br>\n",
    " 6<br>\n",
    " 56<br>\n",
    " 456<br>\n",
    " 3456<br>\n",
    " 23456<br>\n",
    "123456<br>\n",
    "<br>\n",
    "Sample Input 1 :<br>\n",
    "4<br>\n",
    "Sample Output 1 :<br>\n",
    "1234<br>\n",
    " 234<br>\n",
    " 34<br>\n",
    " 4<br>\n",
    " 34<br>\n",
    " 234<br>\n",
    "1234"
   ]
  },
  {
   "cell_type": "markdown",
   "metadata": {},
   "source": [
    "# Diamond of Stars"
   ]
  },
  {
   "cell_type": "markdown",
   "metadata": {},
   "source": [
    "Print the following pattern for the given number of rows.\n",
    "<br>Note: N is always odd.\n",
    "<br><b>Pattern for N = 5<b>\n",
    "![Diamond of Star](https://imgur.com/download/MPB9rTl)\n",
    "</b>The dots represent spaces.</b>"
   ]
  },
  {
   "cell_type": "markdown",
   "metadata": {},
   "source": [
    "Input format :<br>\n",
    "N (Total no. of rows and can only be odd)<br>\n",
    "<br>\n",
    "Output format :<br>\n",
    "Pattern in N lines<br>\n",
    "<br>\n",
    "Constraints :<br>\n",
    "1 <= N <= 49<br>\n",
    "<br>"
   ]
  },
  {
   "cell_type": "code",
   "execution_count": null,
   "metadata": {},
   "outputs": [],
   "source": [
    "n=int(input())\n",
    "for i in range(1,n+1):\n",
    "    for j in range(1,i):\n",
    "        print(\" \",end=\"\")\n",
    "    for l in range(i,n+1):\n",
    "        print(l,end=\"\")\n",
    "    print()\n",
    "for a in range(1,n):\n",
    "    for s in range(n-1-a,0,-1):\n",
    "        print(\" \",end=\"\")\n",
    "    for k in range(n-a,n+1):\n",
    "        print(k,end=\"\")\n",
    "    print()"
   ]
  },
  {
   "cell_type": "markdown",
   "metadata": {},
   "source": [
    "# Rectangular numbers"
   ]
  },
  {
   "cell_type": "markdown",
   "metadata": {},
   "source": [
    "Print the following pattern for the given number of rows.<br>\n",
    "<br>\n",
    "Pattern for N = 4<br>\n",
    "4444444<br>\n",
    "4333334<br>\n",
    "4322234<br>\n",
    "4321234<br>\n",
    "4322234<br>\n",
    "4333334 <br>\n",
    "4444444<br>\n",
    "<br>\n",
    "Input format : N (Total no. of rows)<br>\n",
    "Output format : Pattern in N lines<br>\n",
    "<br>\n",
    "Sample Input :<br>\n",
    "3<br>\n",
    "Sample Output :<br>\n",
    "33333<br>\n",
    "32223<br>\n",
    "32123<br>\n",
    "32223<br>\n",
    "33333"
   ]
  },
  {
   "cell_type": "code",
   "execution_count": 1,
   "metadata": {},
   "outputs": [
    {
     "name": "stdout",
     "output_type": "stream",
     "text": [
      "5\n",
      "555555555\n",
      "544444445\n",
      "543333345\n",
      "543222345\n",
      "543212345\n",
      "543222345\n",
      "543333345\n",
      "544444445\n",
      "555555555\n"
     ]
    }
   ],
   "source": [
    "n=int(input())\n",
    "pattern_1=n\n",
    "\n",
    "for i in range (1,n+1):\n",
    "    pattern_3 = n\n",
    "    for k in range(1,i):\n",
    "        print(pattern_3,end=\"\")\n",
    "        pattern_3-=1\n",
    "    for j in range (1,2*n+2-2*i):\n",
    "        print(pattern_1,end=\"\")\n",
    "    pattern_1 -= 1\n",
    "\n",
    "    for l in range (1,i):\n",
    "        pattern_3+=1\n",
    "        print(pattern_3,end=\"\")\n",
    "    print(\"\")\n",
    "\n",
    "\n",
    "pattern_1=2\n",
    "\n",
    "for i in range (n,1,-1):\n",
    "    pattern_3 = n\n",
    "    for k in range(1,i):\n",
    "        print(pattern_3,end=\"\")\n",
    "        pattern_3-=1\n",
    "    for j in range (1,2*n+2-2*i):\n",
    "        print(pattern_1,end=\"\")\n",
    "    pattern_1+= 1\n",
    "\n",
    "    for l in range (1,i):\n",
    "        pattern_3+=1\n",
    "        print(pattern_3,end=\"\")\n",
    "    print(\"\")"
   ]
  },
  {
   "cell_type": "markdown",
   "metadata": {},
   "source": [
    "# Print the pattern"
   ]
  },
  {
   "cell_type": "markdown",
   "metadata": {},
   "source": [
    "Print the following pattern for the given number of rows.\n",
    "<br><b>Pattern for N = 5</b>\n",
    "![PrintThePattern](https://imgur.com/download/bl7P8Wq)"
   ]
  },
  {
   "cell_type": "markdown",
   "metadata": {},
   "source": [
    "Input format : N (Total no. of rows)<br>\n",
    "<br>\n",
    "Output format : Pattern in N lines<br>\n",
    "<br>\n",
    "Sample Input :<br>\n",
    "4<br>\n",
    "Sample Output :<br>\n",
    "1 2 3 4<br>\n",
    "9 10 11 12<br>\n",
    "13 14 15 16<br>\n",
    "5 6 7 8"
   ]
  },
  {
   "cell_type": "code",
   "execution_count": 2,
   "metadata": {},
   "outputs": [
    {
     "name": "stdout",
     "output_type": "stream",
     "text": [
      "4\n",
      "1 2 3 4 \n",
      "9 10 11 12 \n",
      "13 14 15 16 \n",
      "5 6 7 8 \n"
     ]
    }
   ],
   "source": [
    "n=int(input())\n",
    "startvalue=1\n",
    "for i in range(1,n+1):\n",
    "    for j in range(startvalue,startvalue+n):\n",
    "        print(j,end=\" \")\n",
    "    print()\n",
    "    if i==(n+1)//2:\n",
    "        if n%2!=0:\n",
    "            startvalue=n*(n-2)+1\n",
    "        else:\n",
    "            startvalue=n*(n-1)+1\n",
    "    elif i>(n+1)//2:\n",
    "        startvalue=startvalue-2*n\n",
    "    else:\n",
    "        startvalue=startvalue+2*n"
   ]
  }
 ],
 "metadata": {
  "kernelspec": {
   "display_name": "Python 3",
   "language": "python",
   "name": "python3"
  },
  "language_info": {
   "codemirror_mode": {
    "name": "ipython",
    "version": 3
   },
   "file_extension": ".py",
   "mimetype": "text/x-python",
   "name": "python",
   "nbconvert_exporter": "python",
   "pygments_lexer": "ipython3",
   "version": "3.8.6"
  }
 },
 "nbformat": 4,
 "nbformat_minor": 4
}
