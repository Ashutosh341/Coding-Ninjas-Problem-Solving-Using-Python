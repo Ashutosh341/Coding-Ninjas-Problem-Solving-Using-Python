{
 "cells": [
  {
   "cell_type": "markdown",
   "metadata": {},
   "source": [
    "# Find average Marks"
   ]
  },
  {
   "cell_type": "markdown",
   "metadata": {},
   "source": [
    "<br><b>Write a program to input marks of three tests of a student (all integers). Then calculate and print the average of all test marks.</b>\n",
    "<br><b>Input format :</b>\n",
    "<br>3 Test marks (in different lines)\n",
    "<br><b>Output format :</b>\n",
    "<br>Average\n",
    "<br><b>Sample Input 1 :</b>\n",
    "<br>3\n",
    "<br>4 \n",
    "<br>6\n",
    "<br><b>Sample Output 1 :</b>\n",
    "<br>4.333333333333333\n",
    "<br><b>Sample Input 2 :</b>\n",
    "<br>5 \n",
    "<br>10 \n",
    "<br>5\n",
    "<br><b>Sample Output 2 :</b>\n",
    "<br>6.666666666666667"
   ]
  },
  {
   "cell_type": "code",
   "execution_count": null,
   "metadata": {},
   "outputs": [],
   "source": [
    "sub_1=int(input(\"\"))\n",
    "sub_2=int(input(\"\"))\n",
    "sub_3=int(input(\"\"))\n",
    "Average_of_3_subjects=(sub_1+sub_2+sub_3)\n",
    "print(Average_of_3_subjects/3)"
   ]
  },
  {
   "cell_type": "markdown",
   "metadata": {},
   "source": [
    "# Find X raised to power N"
   ]
  },
  {
   "cell_type": "markdown",
   "metadata": {},
   "source": [
    "<br><b>You are given two integers: X and N. You have to calculate X raised to power N and print it.</b>\n",
    "<br><b>Input format:</b>\n",
    "<br>The first line of input contains an integer X (1 <= X <= 100)\n",
    "<br>The second line of input contains an integer N (1 <= N <= 10) \n",
    "<br><b>Constraints:</b>\n",
    "<br>Time Limit: 1 second\n",
    "<br><b>Output format:</b>\n",
    "<br>The first and only line of output contains the result.  \n",
    "<br><b>Sample Input:</b>\n",
    "<br>10\n",
    "<br>4\n",
    "<br><b>Sample Output:</b>\n",
    "<br>10000"
   ]
  },
  {
   "cell_type": "code",
   "execution_count": null,
   "metadata": {},
   "outputs": [],
   "source": [
    "X=int(input())\n",
    "N=int(input())\n",
    "\n",
    "print(X**N)"
   ]
  },
  {
   "cell_type": "markdown",
   "metadata": {},
   "source": [
    "# Arithmetic Progression"
   ]
  },
  {
   "cell_type": "markdown",
   "metadata": {},
   "source": [
    "<br><b>You are given first three entries of an arithmetic progression. You have to calculate the common difference and print it.</b>\n",
    "<br><b>Input format:</b>\n",
    "<br>The first line of input contains an integer a (1 <= a <= 100)\n",
    "<br>The second line of input contains an integer b (1 <= b <= 100) \n",
    "<br>The third line of input contains an integer c (1 <= c <= 100) \n",
    "<br><b>Constraints:</b>\n",
    "<br>Time Limit: 1 second\n",
    "<br><b>Output format:</b>\n",
    "<br>The first and only line of output contains the result.  \n",
    "<br><b>Sample Input:</b>\n",
    "<br>1\n",
    "<br>3\n",
    "<br>5\n",
    "<br><b>Sample Output:</b>\n",
    "<br>2"
   ]
  },
  {
   "cell_type": "code",
   "execution_count": null,
   "metadata": {},
   "outputs": [],
   "source": [
    "a=int(input())\n",
    "b=int(input())\n",
    "c=int(input())\n",
    "print(b-a)\n"
   ]
  },
  {
   "cell_type": "markdown",
   "metadata": {},
   "source": [
    "# Rectangular Area"
   ]
  },
  {
   "cell_type": "markdown",
   "metadata": {},
   "source": [
    "<br><b>You are given a rectangle in a plane. The corner coordinates of this rectangle is provided to you. You have to print the amount of area of the plane covered by this rectangles.</b>\n",
    "<br>The end coordinates are provided as four integral values: x1, y1, x2, y2. It is given that x1 < x2 and y1 < y2.\n",
    "<br><b>Input format:</b>\n",
    "<br>The first line of input contains an integer x1 (1 <= x1 <= 10)\n",
    "<br>The second line of input contains an integer y1 (1 <= y1 <= 10) \n",
    "<br>The third line of input contains an integer x2 (1 <= x2 <= 10)\n",
    "<br>The fourth line of input contains an integer y2 (1 <= y2 <= 10) \n",
    "<br><b>Constraints:</b>\n",
    "<br>Time Limit: 1 second\n",
    "<br><b>Output format:</b>\n",
    "<br>The first and only line of output contains the result.\n",
    "<br><b>Sample Input:</b>\n",
    "<br>1\n",
    "<br>1\n",
    "<br>3\n",
    "<br>3\n",
    "<br><b>Sample Output:</b>\n",
    "<br><br>4"
   ]
  },
  {
   "cell_type": "code",
   "execution_count": null,
   "metadata": {},
   "outputs": [],
   "source": [
    "x1=int(input())\n",
    "y1=int(input())\n",
    "x2=int(input())\n",
    "y2=int(input())\n",
    "print((x2-x1)*(y2 - y1))"
   ]
  }
 ],
 "metadata": {
  "kernelspec": {
   "display_name": "Python 3",
   "language": "python",
   "name": "python3"
  },
  "language_info": {
   "codemirror_mode": {
    "name": "ipython",
    "version": 3
   },
   "file_extension": ".py",
   "mimetype": "text/x-python",
   "name": "python",
   "nbconvert_exporter": "python",
   "pygments_lexer": "ipython3",
   "version": "3.8.6"
  }
 },
 "nbformat": 4,
 "nbformat_minor": 4
}
